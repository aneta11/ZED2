{
 "cells": [
  {
   "cell_type": "markdown",
   "metadata": {},
   "source": [
    "Import potrzebnych bibliotek"
   ]
  },
  {
   "cell_type": "code",
   "execution_count": 1,
   "metadata": {},
   "outputs": [],
   "source": [
    "import pandas as pd\n",
    "import nltk\n",
    "from nltk.corpus import stopwords\n",
    "import re, string\n",
    "from sklearn.feature_extraction.text import TfidfVectorizer\n",
    "from sklearn.svm import LinearSVC\n",
    "import csv"
   ]
  },
  {
   "cell_type": "markdown",
   "metadata": {},
   "source": [
    "Wczytanie danych"
   ]
  },
  {
   "cell_type": "code",
   "execution_count": 2,
   "metadata": {},
   "outputs": [],
   "source": [
    "train = pd.read_csv(\"train.csv\", sep=\",\")\n",
    "test = pd.read_csv(\"test.csv\", sep=\",\")\n",
    "\n",
    "reviews = train['Reviews'].astype(str)\n",
    "ratings = train['Rating']\n",
    "test_data = test['Reviews'].astype(str)"
   ]
  },
  {
   "cell_type": "markdown",
   "metadata": {},
   "source": [
    "Przygotowanie danych - usunięcie znaków, cyfr, zmiana na małe litery"
   ]
  },
  {
   "cell_type": "code",
   "execution_count": 3,
   "metadata": {},
   "outputs": [],
   "source": [
    "for i, review2 in reviews.items():\n",
    "    reviews[i] = reviews[i].replace('_','')\n",
    "    reviews[i] = re.sub(r'http.?://[^\\s]+[\\s]?', '', reviews[i])\n",
    "    reviews[i] = re.sub(r'@\\w+', '', reviews[i])\n",
    "    reviews[i] = ' '.join([j for j in reviews[i].split() if not any(c.isdigit() for c in j)])\n",
    "    table = str.maketrans({key: None for key in string.punctuation})\n",
    "    reviews[i] = reviews[i].translate(table)\n",
    "    reviews[i] = reviews[i].lower()"
   ]
  },
  {
   "cell_type": "code",
   "execution_count": 4,
   "metadata": {},
   "outputs": [],
   "source": [
    "for i, review3 in test_data.items():\n",
    "    test_data[i] = test_data[i].replace('_','')\n",
    "    test_data[i] = re.sub(r'http.?://[^\\s]+[\\s]?', '', test_data[i])\n",
    "    test_data[i] = re.sub(r'@\\w+', '', test_data[i])\n",
    "    test_data[i] = ' '.join([j for j in test_data[i].split() if not any(c.isdigit() for c in j)])\n",
    "    table = str.maketrans({key: None for key in string.punctuation})\n",
    "    test_data[i] = test_data[i].translate(table)\n",
    "    test_data[i] = test_data[i].lower()"
   ]
  },
  {
   "cell_type": "markdown",
   "metadata": {},
   "source": [
    "Przygotowanie danych - usunięcie stop words nie zawierających negacji (ostatecznie miało to negatywny wpływ na wynik wiec nie było wykorzystywane w dalszych próbach)"
   ]
  },
  {
   "cell_type": "code",
   "execution_count": 5,
   "metadata": {},
   "outputs": [],
   "source": [
    "#stopWords = set(stopwords.words('english'))\n",
    "#negative = {\"can't\", \"cannot\", \"couldn't\", \"didn't\", \"doesn't\", \"don't\", \"down\", \"few\", \"hadn't\", \"hasn't\", \"haven't\",\n",
    "#            \"isn't\", \"mustn't\", \"no\", \"nor\", \"not\", \"off\", \"out\", \"shouldn't\", \"won't\", \"wouldn't\", \"needn't\", \"weren't\"}\n",
    "#stopWords = stopWords - negative"
   ]
  },
  {
   "cell_type": "code",
   "execution_count": 6,
   "metadata": {},
   "outputs": [],
   "source": [
    "#for i, review in test_data.items():\n",
    " #   test_data[i] = ' '.join([j for j in review.split() if j not in stopWords])"
   ]
  },
  {
   "cell_type": "code",
   "execution_count": 7,
   "metadata": {},
   "outputs": [],
   "source": [
    "#for i, review in reviews.items():\n",
    " #   reviews[i] = ' '.join([j for j in review.split() if j not in stopWords])"
   ]
  },
  {
   "cell_type": "markdown",
   "metadata": {},
   "source": [
    "Połączenie reviews z danych treningowych i testowych w jedno na potrzeby zbudowania słownika"
   ]
  },
  {
   "cell_type": "code",
   "execution_count": 8,
   "metadata": {},
   "outputs": [],
   "source": [
    "reviews_connected = reviews.append(test_data)"
   ]
  },
  {
   "cell_type": "markdown",
   "metadata": {},
   "source": [
    "Budowanie słownika"
   ]
  },
  {
   "cell_type": "code",
   "execution_count": 9,
   "metadata": {},
   "outputs": [],
   "source": [
    "vectorizer = TfidfVectorizer(ngram_range=(1,2), min_df=1)\n",
    "vectors = vectorizer.fit_transform(reviews_connected.tolist())"
   ]
  },
  {
   "cell_type": "markdown",
   "metadata": {},
   "source": [
    "Podział na zbiór testowy i treningowy"
   ]
  },
  {
   "cell_type": "code",
   "execution_count": 10,
   "metadata": {},
   "outputs": [],
   "source": [
    "X_train = vectors[:202645]\n",
    "X_test = vectors[202645:]"
   ]
  },
  {
   "cell_type": "markdown",
   "metadata": {},
   "source": [
    "Wykorzystanie LinearSVC() do klasyfikacji"
   ]
  },
  {
   "cell_type": "code",
   "execution_count": 11,
   "metadata": {},
   "outputs": [],
   "source": [
    "classifier = LinearSVC()\n",
    "classifier.fit(X_train, ratings)\n",
    "preds = classifier.predict(X_test)"
   ]
  },
  {
   "cell_type": "markdown",
   "metadata": {},
   "source": [
    "Zpis otrzymanych wartości do pliku"
   ]
  },
  {
   "cell_type": "code",
   "execution_count": 12,
   "metadata": {},
   "outputs": [],
   "source": [
    "ids = test['Id']\n",
    "\n",
    "with open('resultsSVCTfidf2.csv', 'w') as f:\n",
    "    writer = csv.writer(f, lineterminator='\\n')\n",
    "    writer.writerow((\"Id\", \"Rating\"))\n",
    "    writer.writerows(zip(ids, preds))"
   ]
  }
 ],
 "metadata": {
  "kernelspec": {
   "display_name": "Python 3",
   "language": "python",
   "name": "python3"
  },
  "language_info": {
   "codemirror_mode": {
    "name": "ipython",
    "version": 3
   },
   "file_extension": ".py",
   "mimetype": "text/x-python",
   "name": "python",
   "nbconvert_exporter": "python",
   "pygments_lexer": "ipython3",
   "version": "3.7.1"
  }
 },
 "nbformat": 4,
 "nbformat_minor": 2
}
